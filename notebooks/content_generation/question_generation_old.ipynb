{
 "cells": [
  {
   "cell_type": "markdown",
   "metadata": {},
   "source": [
    "## Question Generation\n",
    "\n",
    "This notebook contains functions for automated question generation."
   ]
  },
  {
   "cell_type": "code",
   "execution_count": 1,
   "metadata": {},
   "outputs": [],
   "source": [
    "# imports\n",
    "from langchain.chat_models import AzureChatOpenAI\n",
    "from langchain.prompts import ChatPromptTemplate\n",
    "from dotenv import dotenv_values\n",
    "env_vars = dotenv_values('../functions/.env')\n",
    "\n",
    "# temperature controls the randomness of the generated text\n",
    "# use temperature = 0.0 for development\n",
    "chat = AzureChatOpenAI(\n",
    "    deployment_name=env_vars[\"SEC_AZURE_DEPLOYMENT_ID\"],\n",
    "    openai_api_key=env_vars[\"SEC_AZURE_API_KEY\"],\n",
    "    openai_api_base=env_vars[\"SEC_AZURE_ENDPOINT\"],\n",
    "    openai_api_version='2023-05-15', temperature=0.0)"
   ]
  },
  {
   "cell_type": "code",
   "execution_count": 2,
   "metadata": {},
   "outputs": [],
   "source": [
    "LESSON_TEXT = '''“Form follows function” is a philosophy that many industries follow. In architecture, this means that buildings should be constructed to support the activities housed within them. For example, a skyscraper should include several elevator banks. A hospital should have an easily accessible emergency room.\n",
    "\n",
    "Our natural world also utilizes the principle of form following function, especially in cell biology, as we can see with eukaryotic cell structure. Unlike prokaryotic cells, eukaryotic cells each have: 1) a membrane-bound nucleus; 2) numerous membrane-bound organelles; and 3) several, rod-shaped chromosomes. Because a membrane surrounds eukaryotic cell’s nucleus, it has a “true nucleus”. The word “organelle” means “little organ”, and, as we already mentioned, organelles have specialized cellular functions, just as your body's organs have specialized functions.\n",
    "\n",
    "At this point, it should be clear to you that a eukaryotic cell has a more complex structure than a prokaryotic cell. Organelles allow different functions to be compartmentalized in distinct areas of the cell. In this section, we will discuss organelles found in all types of eukaryotic cells, with the exception of those that comprise the endomembrane system (the endoplasmic reticulum, the Golgi apparatus, lysosomes, and vesicles) which collectively traffic materials through the cell; these will be discussed separately in the next lesson.\n",
    "\n",
    "Before turning to organelles, let’s first examine two important components of the cell: the plasma membrane and the cytoplasm.\n",
    "\n",
    "\n",
    "The Plasma Membrane\n",
    "\n",
    "Like prokaryotes, eukaryotic cells each have a plasma membrane (Figure 1), a phospholipid bilayer with embedded proteins that separates the internal contents of the cell from its surroundings. A phospholipid is a lipid molecule with two fatty acid chains and a phosphate-containing group. The plasma membrane controls the passage of organic molecules, ions, water, and oxygen into and out of the cell. Wastes (such as carbon dioxide and ammonia) also leave the cell by passing through the plasma membrane.\n",
    "\n",
    "The plasma membranes of cells that specialize in absorption fold into fingerlike projections that we call microvilli (singular = microvillus); (Figure 2). Such cells typically line the small intestine, the organ that absorbs nutrients from digested food. This is an excellent example of form following function. People with celiac disease have an immune response to gluten, which is a protein in wheat, barley, and rye. The immune response damages microvilli, impairing nutrient absorption in afflicted individuals. This leads to malnutrition, cramping, and diarrhea. Patients suffering from celiac disease must follow a gluten-free diet.\n",
    "\n",
    "\n",
    "The Cytoplasm\n",
    "\n",
    "The cytoplasm is the cell's entire region between the plasma membrane and the nuclear envelope. It is comprised of organelles suspended in the gel-like cytosol, the cytoskeleton, and various chemicals. Even though the cytoplasm consists of 70-80% water, it has a semi-solid consistency, due to the proteins within it. The cytoplasm also contains glucose and other simple sugars, polysaccharides, amino acids, nucleic acids, fatty acids, and derivatives of glycerol. Ions of sodium, potassium, calcium, and many other elements also dissolve in the cytoplasm. Many metabolic reactions, including protein synthesis, take place in the cytoplasm.\n",
    "\n",
    "\n",
    "The Nucleus\n",
    "\n",
    "Typically, the nucleus is the most prominent organelle in a cell (Figure 3). The nucleus (plural = nuclei) houses the cell’s DNA and directs the synthesis of ribosomes and proteins. The nucleus is surrounded by a double-membrane structure called the nuclear envelope which contains pores that control the passage of ions, molecules, and RNA between the nucleoplasm (the semi-solid fluid inside the nucleus) and cytoplasm.\n",
    "\n",
    "\n",
    "Chromatin and Chromosomes\n",
    "\n",
    "Chromosomes are structures within the nucleus that are made up of DNA, the hereditary material. In eukaryotes, chromosomes are linear. Every eukaryotic species has a specific number of chromosomes in their nuclei. For example, in humans, their chromosome number is 46, while in fruit flies, it is eight. Chromosomes are only visible as the cell prepares to divide. At all other times of a cell’s life cycle, proteins attach to chromosomes, and they resemble an unwound, jumbled bunch of threads, which we call chromatin (Figure 4). Chromatin describes these protein-chromosome complexes both when condensed and decondensed.\n",
    "\n",
    "\n",
    "The Nucleolus\n",
    "\n",
    "We already know that the nucleus directs the synthesis of ribosomes, but how does it do this? Some chromosomes have sections of DNA that encode ribosomal RNA. A darkly staining area within the nucleus called the nucleolus (plural = nucleoli) aggregates the ribosomal RNA with associated proteins to assemble the ribosomal subunits that are then transported out through the nuclear envelope’s pores to the cytoplasm.\n",
    "\n",
    "\n",
    "Ribosomes\n",
    "\n",
    "Ribosomes are the cellular structures responsible for protein synthesis. They may group together into clusters (polyribosomes) or individual ribosomes may float freely in the cytoplasm. They may be attached to the plasma membrane's cytoplasmic side or the endoplasmic reticulum's cytoplasmic side and the nuclear envelope's outer membrane. They are large protein and RNA complexes, each consisting of two subunits, large and small (Figure 5). Ribosomes receive their “orders” for protein synthesis from the nucleus where the DNA transcribes into messenger RNA (mRNA). The mRNA travels to the ribosomes, which translate the code provided by the sequence of the nitrogenous bases in the mRNA into a specific order of amino acids linked together. Amino acids are the building blocks of proteins.\n",
    "\n",
    "Because proteins have a wide variety of essential cellular functions (including as enzymes, hormones, antibodies, pigments, structural components, and surface receptors), ribosomes are in every cell. Ribosomes are particularly abundant in cells that synthesize large amounts of protein. For example, the pancreas creates several digestive enzymes, and the cells that produce these enzymes contain many ribosomes. Thus, we see another example of form following function.\n",
    "\n",
    "\n",
    "Mitochondria\n",
    "\n",
    "Mitochondria (singular = mitochondrion) are bean-shaped structures each with a double membrane that are often called “powerhouses” of cells because they make adenosine triphosphate (ATP), the cell’s main energy-carrying molecule. ATP represents the cell's short-term stored energy. Cellular respiration is the process of making ATP using the chemical energy in glucose and other nutrients. In mitochondria, this process uses oxygen and produces carbon dioxide as waste. In fact, the carbon dioxide that you exhale with every breath comes from the cellular reactions that produce carbon dioxide as a byproduct.\n",
    "\n",
    "In keeping with our theme of form following function, it is important to note that muscle cells have a very high concentration of mitochondria that produce ATP. Your muscle cells need considerable energy to keep your body moving. When your cells don’t get enough oxygen, they make small amounts of ATP and also produce lactic acid.\n",
    "\n",
    "\n",
    "Peroxisomes\n",
    "\n",
    "Peroxisomes are small, round organelles enclosed by single membranes. They carry out oxidation reactions that break down fatty acids and amino acids. They also detoxify many poisons that may enter the body. (Many of these oxidation reactions release hydrogen peroxide, H2O2, which would be damaging to cells; however, when these reactions are confined to peroxisomes, enzymes safely break down the H2O2 into oxygen and water.) For example, peroxisomes in liver cells detoxify alcohol.'''"
   ]
  },
  {
   "cell_type": "markdown",
   "metadata": {},
   "source": [
    "### Defining prompts"
   ]
  },
  {
   "cell_type": "code",
   "execution_count": 3,
   "metadata": {},
   "outputs": [
    {
     "name": "stdout",
     "output_type": "stream",
     "text": [
      "You are a biology professor that prepares review/guiding questions to help your students learn a lesson. Write at least 5 free-response questions designed to help your students understand the lesson material. Overall, the questions you write should promote comprehensive learning and cover all the lesson material. Please try to avoid writing questions that overlap in content. The lesson material is provided below delimited by triple backticks.\n",
      "Write the questions in the following format:\n",
      "Question 1: <Question 1 text> \n",
      "... \n",
      "Question N: <Question N text> \n",
      "\n",
      "Lesson Material:```{content}```\n"
     ]
    }
   ],
   "source": [
    "# NOTE: Lesson review question prompt\n",
    "comb_rev_quest_gen_string = \"\"\"You are a biology professor that prepares review/guiding \\\n",
    "questions to help your students learn a lesson. Write at least 5 free-response questions \\\n",
    "designed to help your students understand the lesson material. Overall, the questions you write \\\n",
    "should promote comprehensive learning and cover all the lesson material. Please try \\\n",
    "to avoid writing questions that overlap in content. The lesson material is provided \\\n",
    "below delimited by triple backticks.\\n\\\n",
    "Write the questions in the following format:\\n\\\n",
    "Question 1: <Question 1 text> \\n\\\n",
    "... \\n\\\n",
    "Question N: <Question N text> \\n\\n\\\n",
    "Lesson Material:```{content}```\"\"\"\n",
    "comb_rev_quest_template = ChatPromptTemplate.from_template(comb_rev_quest_gen_string)\n",
    "print(comb_rev_quest_gen_string)"
   ]
  },
  {
   "cell_type": "code",
   "execution_count": null,
   "metadata": {},
   "outputs": [],
   "source": [
    "prompt = comb_rev_quest_template.format_messages(content=LESSON_TEXT)\n",
    "rev_quest = chat(prompt).content\n",
    "print(rev_quest)"
   ]
  },
  {
   "cell_type": "code",
   "execution_count": 4,
   "metadata": {},
   "outputs": [],
   "source": [
    "REV_QUESTS = [\n",
    "    \"Describe the structure of a eukaryotic cell and explain how it differs from a prokaryotic cell.\",\n",
    "    \"What is the role of the plasma membrane in a eukaryotic cell? How does its structure facilitate this role?\",\n",
    "    \"Explain the functions of the major cell organelles: the nucleus, ribosomes, mitochondria, and peroxisomes.\",\n",
    "    \"Explain the concept of ''form follows function'' in the context of cell biology. Provide examples from the lesson material to support your explanation.\",\n",
    "    \"Describe the process of protein synthesis in a eukaryotic cell. How do the nucleus, mRNA, and ribosomes work together in this process?\"\n",
    "]"
   ]
  },
  {
   "cell_type": "code",
   "execution_count": 5,
   "metadata": {},
   "outputs": [],
   "source": [
    "REV_QUESTS = [\n",
    "    \"Describe the structure of eukaryotic cells and how it differs from prokaryotic cells.\",\n",
    "    \"What is the role of the plasma membrane in eukaryotic cells? How does it control the passage of molecules into and out of the cell?\",\n",
    "    \"Explain the functions of the major cell organelles: the nucleus, ribosomes, mitochondria, and peroxisomes.\",\n",
    "    \"Discuss the concept of ''form follows function'' in the context of eukaryotic cell structure. Provide examples from the lesson material.\",\n",
    "    \"Describe the composition and function of the cytoplasm in eukaryotic cells. What metabolic reactions take place in the cytoplasm?\",\n",
    "    \"What is the role of the nucleolus in the synthesis of ribosomes?\",\n",
    "    \"Explain the process of protein synthesis in ribosomes. How does the DNA in the nucleus direct this process?\",\n",
    "    \"Describe the function of mitochondria in cells. How does it produce ATP and what role does oxygen play in this process?\",\n",
    "    \"What are peroxisomes and what role do they play in the cell? How do they contribute to the detoxification process in the body?\",\n",
    "    \"Describe the structure and function of chromatin and chromosomes within the nucleus of a eukaryotic cell.\",\n",
    "]"
   ]
  },
  {
   "cell_type": "code",
   "execution_count": 6,
   "metadata": {},
   "outputs": [
    {
     "name": "stdout",
     "output_type": "stream",
     "text": [
      "Question 1: Describe the structure of eukaryotic cells and how it differs from prokaryotic cells.\n",
      "Question 2: What is the role of the plasma membrane in eukaryotic cells? How does it control the passage of molecules into and out of the cell?\n",
      "Question 3: Explain the functions of the major cell organelles: the nucleus, ribosomes, mitochondria, and peroxisomes.\n",
      "Question 4: Discuss the concept of ''form follows function'' in the context of eukaryotic cell structure. Provide examples from the lesson material.\n",
      "Question 5: Describe the composition and function of the cytoplasm in eukaryotic cells. What metabolic reactions take place in the cytoplasm?\n",
      "Question 6: What is the role of the nucleolus in the synthesis of ribosomes?\n",
      "Question 7: Explain the process of protein synthesis in ribosomes. How does the DNA in the nucleus direct this process?\n",
      "Question 8: Describe the function of mitochondria in cells. How does it produce ATP and what role does oxygen play in this process?\n",
      "Question 9: What are peroxisomes and what role do they play in the cell? How do they contribute to the detoxification process in the body?\n",
      "Question 10: Describe the structure and function of chromatin and chromosomes within the nucleus of a eukaryotic cell.\n",
      "\n"
     ]
    }
   ],
   "source": [
    "COMB_STRING = \"\"\n",
    "for i, q in enumerate(REV_QUESTS):\n",
    "    COMB_STRING += \"Question \" + str(i + 1) + \": \" + q + \"\\n\"\n",
    "print(COMB_STRING)"
   ]
  },
  {
   "cell_type": "code",
   "execution_count": 7,
   "metadata": {},
   "outputs": [
    {
     "name": "stdout",
     "output_type": "stream",
     "text": [
      "You are a biology professor that prepares solutions for a range of review/guiding questions designed to help your students learn a lesson. The questions and lesson text are provided below delimited by triple backticks. The solutions should be focused and target only the most important information from the lesson material.\n",
      "Write the solutions in the following format:\n",
      "Solution 1: <Question 1 solution text> \n",
      "... \n",
      "Solution N: <Question N solution text> \n",
      "\n",
      "Question List: ```{question}```\n",
      "\n",
      "Lesson Material: ```{content}```\n",
      "\n"
     ]
    }
   ],
   "source": [
    "# NOTE: solution generation\n",
    "rev_quest_gen_string = \"\"\"You are a biology professor that prepares solutions \\\n",
    "for a range of review/guiding questions designed to help your students learn a lesson. \\\n",
    "The questions and lesson text are provided below delimited by triple backticks. \\\n",
    "The solutions should be focused and target only the most important information from the lesson material.\\n\\\n",
    "Write the solutions in the following format:\\n\\\n",
    "Solution 1: <Question 1 solution text> \\n\\\n",
    "... \\n\\\n",
    "Solution N: <Question N solution text> \\n\\\n",
    "\n",
    "Question List: ```{question}```\\n\\n\\\n",
    "Lesson Material: ```{content}```\n",
    "\"\"\"\n",
    "rev_answer_template = ChatPromptTemplate.from_template(rev_quest_gen_string)\n",
    "print(rev_quest_gen_string)"
   ]
  },
  {
   "cell_type": "code",
   "execution_count": null,
   "metadata": {},
   "outputs": [],
   "source": [
    "prompt = rev_answer_template.format_messages(question=COMB_STRING, content=LESSON_TEXT)\n",
    "rev_sol = chat(prompt).content\n",
    "print(rev_sol)"
   ]
  },
  {
   "cell_type": "code",
   "execution_count": 8,
   "metadata": {},
   "outputs": [],
   "source": [
    "SOLUTIONS = [\n",
    "    \"Eukaryotic cells have a more complex structure than prokaryotic cells. They have a membrane-bound nucleus, numerous membrane-bound organelles, and several rod-shaped chromosomes. Unlike prokaryotic cells, eukaryotic cells have a ''true nucleus'' because a membrane surrounds it. Organelles in eukaryotic cells allow different functions to be compartmentalized in distinct areas of the cell.\",\n",
    "    \"The plasma membrane in eukaryotic cells is a phospholipid bilayer with embedded proteins that separates the internal contents of the cell from its surroundings. It controls the passage of organic molecules, ions, water, and oxygen into and out of the cell. Wastes such as carbon dioxide and ammonia also leave the cell by passing through the plasma membrane.\",\n",
    "    \"The nucleus houses the cell’s DNA and directs the synthesis of ribosomes and proteins. Ribosomes are responsible for protein synthesis. Mitochondria, often called the ''powerhouses'' of cells, make adenosine triphosphate (ATP), the cell’s main energy-carrying molecule. Peroxisomes carry out oxidation reactions that break down fatty acids and amino acids and detoxify many poisons that may enter the body.\",\n",
    "    \"The concept of ''form follows function'' in the context of eukaryotic cell structure means that the structure of a cell or its components is directly related to its function. For example, cells that specialize in absorption, like those in the small intestine, have microvilli to increase surface area for absorption. Similarly, muscle cells have a high concentration of mitochondria to produce the energy needed for muscle movement.\",\n",
    "    \"The cytoplasm in eukaryotic cells is the region between the plasma membrane and the nuclear envelope. It is comprised of organelles suspended in the gel-like cytosol, the cytoskeleton, and various chemicals. Many metabolic reactions, including protein synthesis, take place in the cytoplasm.\",\n",
    "    \"The nucleolus aggregates the ribosomal RNA with associated proteins to assemble the ribosomal subunits that are then transported out through the nuclear envelope’s pores to the cytoplasm. This is how the nucleolus plays a role in the synthesis of ribosomes.\",\n",
    "    \"Protein synthesis in ribosomes begins with the DNA in the nucleus transcribing into messenger RNA (mRNA). The mRNA travels to the ribosomes, which translate the code provided by the sequence of the nitrogenous bases in the mRNA into a specific order of amino acids linked together to form proteins.\",\n",
    "    \"Mitochondria produce ATP, the cell’s main energy-carrying molecule, through a process called cellular respiration. This process uses the chemical energy in glucose and other nutrients, and oxygen, and produces carbon dioxide as waste. Oxygen is crucial in this process as it is used to break down glucose and other nutrients to produce ATP.\",\n",
    "    \"Peroxisomes are small, round organelles that carry out oxidation reactions that break down fatty acids and amino acids. They also detoxify many poisons that may enter the body. For example, peroxisomes in liver cells detoxify alcohol. They contribute to the detoxification process in the body by breaking down harmful substances and safely releasing them as less harmful substances.\",\n",
    "    \"Chromatin and chromosomes are structures within the nucleus made up of DNA. Chromosomes are only visible as the cell prepares to divide. At all other times, they resemble an unwound, jumbled bunch of threads, which we call chromatin. Chromatin describes these protein-chromosome complexes both when condensed and decondensed.\",\n",
    "]"
   ]
  },
  {
   "cell_type": "code",
   "execution_count": 9,
   "metadata": {},
   "outputs": [],
   "source": [
    "# NOTE: expectation generation\n",
    "exp_quest_gen_string = \"\"\"You are a biology professor that creates a list to summarize \\\n",
    "the key information elements contained in the solution to a review/guiding question \\\n",
    "designed to help your students learn a lesson. \\\n",
    "The question and solution are provided below delimited by triple backticks. \\\n",
    "You want to keep the list and descriptions brief and focused. \\\n",
    "Write the list in the following format:\\n\\\n",
    "Element 1: <Element 1 text>\\n\\\n",
    "...\\n\\\n",
    "Element N: <Element N text>\\n\\\n",
    "\\n\\\n",
    "Question: ```{question}```\n",
    "\\n\\\n",
    "Solution: ```{solution}```\n",
    "\"\"\"\n",
    "exp_answer_template = ChatPromptTemplate.from_template(exp_quest_gen_string)"
   ]
  },
  {
   "cell_type": "code",
   "execution_count": 10,
   "metadata": {},
   "outputs": [
    {
     "name": "stdout",
     "output_type": "stream",
     "text": [
      "You are a biology professor that creates a list to summarize the key information elements contained in the solution to a review/guiding question designed to help your students learn a lesson. The question and solution are provided below delimited by triple backticks. You want to keep the list and descriptions brief and focused. Write the list in the following format:\n",
      "Element 1: <Element 1 text>\n",
      "...\n",
      "Element N: <Element N text>\n",
      "\n",
      "Question: ```{question}```\n",
      "\n",
      "Solution: ```{solution}```\n",
      "\n"
     ]
    }
   ],
   "source": [
    "print(exp_quest_gen_string)"
   ]
  },
  {
   "cell_type": "code",
   "execution_count": null,
   "metadata": {},
   "outputs": [],
   "source": [
    "for i, q in enumerate(REV_QUESTS):\n",
    "    print(\"Question\", i, q)\n",
    "    print(SOLUTIONS[i])\n",
    "    prompt = exp_answer_template.format_messages(question=q, solution=SOLUTIONS[i])\n",
    "    rev_sol = chat(prompt).content\n",
    "    print(rev_sol)\n",
    "    print(\"\")\n"
   ]
  },
  {
   "cell_type": "code",
   "execution_count": 11,
   "metadata": {},
   "outputs": [
    {
     "name": "stdout",
     "output_type": "stream",
     "text": [
      "Question 1: Describe the structure of eukaryotic cells and how it differs from prokaryotic cells.\n",
      "Solution 1: Eukaryotic cells have a more complex structure than prokaryotic cells. They have a membrane-bound nucleus, numerous membrane-bound organelles, and several rod-shaped chromosomes. Unlike prokaryotic cells, eukaryotic cells have a ''true nucleus'' because a membrane surrounds it. Organelles in eukaryotic cells allow different functions to be compartmentalized in distinct areas of the cell.\n",
      "Question 2: What is the role of the plasma membrane in eukaryotic cells? How does it control the passage of molecules into and out of the cell?\n",
      "Solution 2: The plasma membrane in eukaryotic cells is a phospholipid bilayer with embedded proteins that separates the internal contents of the cell from its surroundings. It controls the passage of organic molecules, ions, water, and oxygen into and out of the cell. Wastes such as carbon dioxide and ammonia also leave the cell by passing through the plasma membrane.\n",
      "Question 3: Explain the functions of the major cell organelles: the nucleus, ribosomes, mitochondria, and peroxisomes.\n",
      "Solution 3: The nucleus houses the cell’s DNA and directs the synthesis of ribosomes and proteins. Ribosomes are responsible for protein synthesis. Mitochondria, often called the ''powerhouses'' of cells, make adenosine triphosphate (ATP), the cell’s main energy-carrying molecule. Peroxisomes carry out oxidation reactions that break down fatty acids and amino acids and detoxify many poisons that may enter the body.\n",
      "Question 4: Discuss the concept of ''form follows function'' in the context of eukaryotic cell structure. Provide examples from the lesson material.\n",
      "Solution 4: The concept of ''form follows function'' in the context of eukaryotic cell structure means that the structure of a cell or its components is directly related to its function. For example, cells that specialize in absorption, like those in the small intestine, have microvilli to increase surface area for absorption. Similarly, muscle cells have a high concentration of mitochondria to produce the energy needed for muscle movement.\n",
      "Question 5: Describe the composition and function of the cytoplasm in eukaryotic cells. What metabolic reactions take place in the cytoplasm?\n",
      "Solution 5: The cytoplasm in eukaryotic cells is the region between the plasma membrane and the nuclear envelope. It is comprised of organelles suspended in the gel-like cytosol, the cytoskeleton, and various chemicals. Many metabolic reactions, including protein synthesis, take place in the cytoplasm.\n",
      "Question 6: What is the role of the nucleolus in the synthesis of ribosomes?\n",
      "Solution 6: The nucleolus aggregates the ribosomal RNA with associated proteins to assemble the ribosomal subunits that are then transported out through the nuclear envelope’s pores to the cytoplasm. This is how the nucleolus plays a role in the synthesis of ribosomes.\n",
      "Question 7: Explain the process of protein synthesis in ribosomes. How does the DNA in the nucleus direct this process?\n",
      "Solution 7: Protein synthesis in ribosomes begins with the DNA in the nucleus transcribing into messenger RNA (mRNA). The mRNA travels to the ribosomes, which translate the code provided by the sequence of the nitrogenous bases in the mRNA into a specific order of amino acids linked together to form proteins.\n",
      "Question 8: Describe the function of mitochondria in cells. How does it produce ATP and what role does oxygen play in this process?\n",
      "Solution 8: Mitochondria produce ATP, the cell’s main energy-carrying molecule, through a process called cellular respiration. This process uses the chemical energy in glucose and other nutrients, and oxygen, and produces carbon dioxide as waste. Oxygen is crucial in this process as it is used to break down glucose and other nutrients to produce ATP.\n",
      "Question 9: What are peroxisomes and what role do they play in the cell? How do they contribute to the detoxification process in the body?\n",
      "Solution 9: Peroxisomes are small, round organelles that carry out oxidation reactions that break down fatty acids and amino acids. They also detoxify many poisons that may enter the body. For example, peroxisomes in liver cells detoxify alcohol. They contribute to the detoxification process in the body by breaking down harmful substances and safely releasing them as less harmful substances.\n",
      "Question 10: Describe the structure and function of chromatin and chromosomes within the nucleus of a eukaryotic cell.\n",
      "Solution 10: Chromatin and chromosomes are structures within the nucleus made up of DNA. Chromosomes are only visible as the cell prepares to divide. At all other times, they resemble an unwound, jumbled bunch of threads, which we call chromatin. Chromatin describes these protein-chromosome complexes both when condensed and decondensed.\n",
      "\n"
     ]
    }
   ],
   "source": [
    "# What happes if we create all expectations at once?\n",
    "QS_STRING = \"\"\n",
    "for i, q in enumerate(REV_QUESTS):\n",
    "    QS_STRING += \"Question \" + str(i + 1) + \": \" + q + \"\\n\"\n",
    "    QS_STRING += \"Solution \" + str(i + 1) + \": \" + SOLUTIONS[i] + \"\\n\"\n",
    "print(QS_STRING)"
   ]
  },
  {
   "cell_type": "code",
   "execution_count": 12,
   "metadata": {},
   "outputs": [],
   "source": [
    "# NOTE: expectation generation\n",
    "exp_quest_gen_string = \"\"\"You are a biology professor that creates lists summarizing \\\n",
    "the key information elements contained in the solutions to review/guiding questions \\\n",
    "designed to help your students learn a lesson. \\\n",
    "The questions and solutions are provided below delimited by triple backticks. \\\n",
    "You want to keep the lists brief and focused. \\\n",
    "Write the lists in the following format:\\n\\\n",
    "List 1: <Question 1 element 1; ...; Question 1 element m1>\\n\\\n",
    "...\\n\\\n",
    "List N: <Question N element 1; ...; Question N element mN>\\n\\\n",
    "\\n\\\n",
    "Questions and Solutions: ```{questions}```\n",
    "\"\"\"\n",
    "exp_answer_template = ChatPromptTemplate.from_template(exp_quest_gen_string)"
   ]
  },
  {
   "cell_type": "code",
   "execution_count": 13,
   "metadata": {},
   "outputs": [
    {
     "name": "stdout",
     "output_type": "stream",
     "text": [
      "List 1: Eukaryotic cells have a complex structure; Eukaryotic cells have a membrane-bound nucleus; Eukaryotic cells have numerous membrane-bound organelles; Eukaryotic cells have several rod-shaped chromosomes; Eukaryotic cells have a ''true nucleus''; Organelles in eukaryotic cells compartmentalize different functions.\n",
      "List 2: The plasma membrane in eukaryotic cells is a phospholipid bilayer; The plasma membrane separates the internal contents of the cell from its surroundings; The plasma membrane controls the passage of organic molecules, ions, water, and oxygen; Wastes leave the cell by passing through the plasma membrane.\n",
      "List 3: The nucleus houses the cell’s DNA; The nucleus directs the synthesis of ribosomes and proteins; Ribosomes are responsible for protein synthesis; Mitochondria make ATP; Peroxisomes carry out oxidation reactions; Peroxisomes break down fatty acids and amino acids; Peroxisomes detoxify many poisons.\n",
      "List 4: The structure of a cell or its components is directly related to its function; Cells that specialize in absorption have microvilli; Muscle cells have a high concentration of mitochondria.\n",
      "List 5: The cytoplasm is the region between the plasma membrane and the nuclear envelope; The cytoplasm is comprised of organelles, the cytoskeleton, and various chemicals; Many metabolic reactions take place in the cytoplasm.\n",
      "List 6: The nucleolus aggregates the ribosomal RNA with associated proteins; The nucleolus assembles the ribosomal subunits; The ribosomal subunits are transported to the cytoplasm.\n",
      "List 7: Protein synthesis in ribosomes begins with the DNA in the nucleus transcribing into mRNA; The mRNA travels to the ribosomes; The ribosomes translate the code provided by the mRNA into a specific order of amino acids to form proteins.\n",
      "List 8: Mitochondria produce ATP through cellular respiration; Cellular respiration uses the chemical energy in glucose and other nutrients, and oxygen; Oxygen is used to break down glucose and other nutrients to produce ATP.\n",
      "List 9: Peroxisomes are small, round organelles; Peroxisomes carry out oxidation reactions; Peroxisomes break down fatty acids and amino acids; Peroxisomes detoxify many poisons; Peroxisomes in liver cells detoxify alcohol.\n",
      "List 10: Chromatin and chromosomes are structures within the nucleus made up of DNA; Chromosomes are only visible as the cell prepares to divide; Chromatin describes these protein-chromosome complexes both when condensed and decondensed.\n"
     ]
    }
   ],
   "source": [
    "prompt = exp_answer_template.format_messages(questions=QS_STRING)\n",
    "rev_sol = chat(prompt).content\n",
    "print(rev_sol)"
   ]
  },
  {
   "cell_type": "code",
   "execution_count": 15,
   "metadata": {},
   "outputs": [
    {
     "data": {
      "text/plain": [
       "31"
      ]
     },
     "execution_count": 15,
     "metadata": {},
     "output_type": "execute_result"
    }
   ],
   "source": [
    "len(rev_sol.split(\";\"))"
   ]
  },
  {
   "cell_type": "code",
   "execution_count": null,
   "metadata": {},
   "outputs": [],
   "source": []
  },
  {
   "cell_type": "markdown",
   "metadata": {},
   "source": [
    "## EVERYTHING BELOW IS DEPRECATED"
   ]
  },
  {
   "cell_type": "markdown",
   "metadata": {},
   "source": [
    "### GPT3.5 generated"
   ]
  },
  {
   "cell_type": "code",
   "execution_count": null,
   "metadata": {},
   "outputs": [],
   "source": [
    "\"\"\"\n",
    "Q1\n",
    "\n",
    "Question: How does the principle of \"form follows function\" apply to eukaryotic cells and their organelles?\n",
    "\n",
    "Question: What is the main difference between eukaryotic and prokaryotic cells?\n",
    "Option A: Eukaryotic cells have a membrane-bound nucleus and numerous membrane-bound organelles, while prokaryotic cells do not.\n",
    "Option B: Eukaryotic cells have several rod-shaped chromosomes, while prokaryotic cells have only one circular chromosome.\n",
    "Option C: Eukaryotic cells have a cell wall, while prokaryotic cells do not.\n",
    "Option D: Eukaryotic cells have a flagellum for movement, while prokaryotic cells do not.\n",
    "Correct Option: A\n",
    "\n",
    "Q2\n",
    "\n",
    "What is the function of the plasma membrane in eukaryotic cells and how does it control the passage of molecules in and out of the cell?\n",
    "\n",
    "Question: What is the function of the plasma membrane in eukaryotic cells?\n",
    "Option A: To absorb nutrients from digested food\n",
    "Option B: To control the passage of organic molecules, ions, water, and oxygen into and out of the cell\n",
    "Option C: To produce energy for the cell\n",
    "Option D: To protect the cell from external threats\n",
    "Correct Option: B\n",
    "\n",
    "\n",
    "Q3\n",
    "\n",
    "What are the different types of organic molecules and elements found in the cytoplasm, and what metabolic reactions occur in this region of the cell?\n",
    "\n",
    "Question: Which of the following is NOT found in the cytoplasm of a cell?\n",
    "Option A: Glucose\n",
    "Option B: Proteins\n",
    "Option C: Calcium ions\n",
    "Option D: DNA\n",
    "Correct Option: D\n",
    "\n",
    "\n",
    "Q4\n",
    "\n",
    "What is the function of the nucleus in a cell and what does it house?\n",
    "\n",
    "Question: Which organelle houses the cell's DNA and directs the synthesis of ribosomes and proteins?\n",
    "Option A: Mitochondria\n",
    "Option B: Golgi Apparatus\n",
    "Option C: Nucleus\n",
    "Option D: Endoplasmic Reticulum\n",
    "Correct Option: C\n",
    "\n",
    "\n",
    "Q5\n",
    "\n",
    "How do chromosomes differ between prokaryotes and eukaryotes, and what is chromatin?\n",
    "\n",
    "Question: What is chromatin?\n",
    "Option A: A circular structure made up of DNA in prokaryotes.\n",
    "Option B: A linear structure made up of DNA in eukaryotes.\n",
    "Option C: The material that makes up chromosomes both when condensed and decondensed.\n",
    "Option D: A protein that attaches to chromosomes during cell division.\n",
    "Correct Option: C\n",
    "\n",
    "\n",
    "Q6\n",
    "\n",
    "What is the function of ribosomes in protein synthesis and how do they receive their \"orders\" for protein synthesis?\n",
    "    \n",
    "Question: What is the function of ribosomes in a cell?\n",
    "Option A: To store genetic information\n",
    "Option B: To produce lipids\n",
    "Option C: To synthesize proteins\n",
    "Option D: To break down waste products\n",
    "\n",
    "\n",
    "Q7\n",
    "\n",
    "Why are mitochondria often referred to as \"powerhouses\" or \"energy factories\" of both plant and animal cells?\n",
    "\n",
    "Question: What is the main function of mitochondria in both plant and animal cells?\n",
    "Option A: To produce glucose\n",
    "Option B: To produce carbon dioxide\n",
    "Option C: To store long-term energy\n",
    "Option D: To produce ATP\n",
    "Correct Option: D\n",
    "\n",
    "\n",
    "Q8\n",
    "\n",
    "What are some of the functions of peroxisomes in cells?\n",
    "\n",
    "Question: What is the function of peroxisomes in liver cells?\n",
    "Option A: Break down sugars\n",
    "Option B: Convert stored fats into sugars\n",
    "Option C: Detoxify alcohol\n",
    "Option D: Carry out photosynthesis\n",
    "Correct Option: C\n",
    "\n",
    "\n",
    "Q9\n",
    "\n",
    "What is the subtle distinction between vesicles and vacuoles, and how do their functions differ?\n",
    "\n",
    "Question: What is the main difference between vesicles and vacuoles?\n",
    "Option A: Vesicles are larger than vacuoles.\n",
    "Option B: Vesicle membranes can fuse with other membrane systems within the cell, while vacuole membranes do not.\n",
    "Option C: Vacuoles are used for storage, while vesicles are used for transport.\n",
    "Option D: Vesicles support cell expansion, while vacuoles break down macromolecules.\n",
    "Correct Option: B\n",
    "\"\"\""
   ]
  },
  {
   "cell_type": "code",
   "execution_count": null,
   "metadata": {},
   "outputs": [],
   "source": []
  },
  {
   "cell_type": "code",
   "execution_count": null,
   "metadata": {},
   "outputs": [],
   "source": []
  },
  {
   "cell_type": "code",
   "execution_count": null,
   "metadata": {},
   "outputs": [],
   "source": []
  },
  {
   "cell_type": "code",
   "execution_count": null,
   "metadata": {},
   "outputs": [],
   "source": [
    "content = \"\"\"\n",
    "Peroxisomes are small, round organelles enclosed by single membranes. They carry out oxidation reactions that break down fatty acids and amino acids. They also detoxify many poisons that may enter the body. (Many of these oxidation reactions release hydrogen peroxide, H2O2, which would be damaging to cells; however, when these reactions are confined to peroxisomes, enzymes safely break down the H2O2 into oxygen and water.) For example, peroxisomes in liver cells detoxify alcohol. Glyoxysomes, which are specialized peroxisomes in plants, are responsible for converting stored fats into sugars. Plant cells contain many different types of peroxisomes that play a role in metabolism, pathogene defense, and stress response, to mention a few.`;\n",
    "\"\"\"\n",
    "print(\"Summary:\\n----------------------------------------\")\n",
    "prompt = sum_content_template.format_messages(content=content)\n",
    "summary_list = chat(prompt).content\n",
    "print(summary_list)"
   ]
  },
  {
   "cell_type": "code",
   "execution_count": null,
   "metadata": {},
   "outputs": [],
   "source": []
  },
  {
   "cell_type": "markdown",
   "metadata": {},
   "source": [
    "#### Summary prompt:\n",
    "\n",
    "You are a biology college professor that teaches first year undergraduate students. Please help write a one sentence question that promotes a discussion about the knowledge that the questions below inquire about:"
   ]
  },
  {
   "cell_type": "code",
   "execution_count": null,
   "metadata": {},
   "outputs": [],
   "source": []
  },
  {
   "cell_type": "code",
   "execution_count": null,
   "metadata": {},
   "outputs": [],
   "source": [
    "MAN_QS = [\n",
    "    \"Explain the principle of form follows function. Provide at least 2 examples of how this principle applies with respect to the structure of eukaryotic cells.\",\n",
    "    \"What is the function of a membrane? Which structures/organelles of a eukaryotic cell are bounded by one or more membranes? Why is it important that these organelles are bounded in this way?\",\n",
    "    \"What is the consistency of the cytoplasm? Why? What is found within the cytoplasm of a eukaryotic cell? What happens here?\",\n",
    "    \"What are ribosomes composed of? Where in a cell are ribosomal subunits made and assembled? Where are they used? What are they used for? What provides them the instructions for their function?\",\n",
    "    \"How does breathing relate to the process of cellular respiration? What does cellular respiration use and produce? Where does it occur in eukaryotic cells?\"\n",
    "]\n",
    "\n",
    "MAN_ANSW = [\n",
    "    \"The principle of form follows function means that the function of a particular structure is specifically designed to help the structure carry out its particular function. There are many examples where a type of eukaryotic cell is enriched in a particular structure or organelle to optimize its ability to perform a particular function. These include (but only 2 need to be provided): A)\tCells lining the small intestine have microvilli (increased amounts of plasma membrane found in folds), increasing their area for nutrient absorption. When these microvilli are damaged (as occurs during celiac disease), nutrient absorption is disrupted. B) Cells that need to make a lot of proteins, like pancreatic cells that make a high quantity of digestive enzymes, contain may ribosomes, the structure responsible for protein synthesis. C) cells have a very high concentration of mitochondria in order to make high amounts of ATP (the cell’s short-term stored energy) to keep your body moving.\",\n",
    "    \"A membrane separates the internal contents of a cell or organelle from its surroundings, controlling the passage of materials from one side of the membrane to the other. A phospholipid bilayer with embedded proteins composes the plasma membrane, and several organelles, including the nucleus (surrounded by a double membrane), mitochondria (each surrounded by a double membrane), and peroxisomes (each surrounded by a single membrane) are also bound by membranes. It is important that the organelles are bounded in this way so that the materials they contain, and their functions are compartmentalized within the larger eukaryotic cell.\",\n",
    "    \"While the cytoplasm consists of 70-80% water, it has a gel-like, semi-solid consistency due to the proteins found within it. Beyond the cytosol, in which the organelles are suspended, the cytoplasm also contains the cytoskeleton and various chemicals, including glucose, other sugars, amino acids, nucleic acids, fatty acids, glycerol derivatives, and many dissolved ions and elements. The cytoplasm is where many metabolic reactions including protein synthesis.\",\n",
    "    \"Each ribosome is composed of two subunits, a large and a small, each of which contains both proteins and RNA. Ribosomal RNA is made in the nucleus, and the ribosomal RNA and ribosomal proteins assemble into ribosomal subunits in the nucleolus within the nucleus. Then, the ribosomal subunits leave the nucleus through the nuclear envelope’s pores to enter the cytoplasm. Once outside of the nucleus, ribosomes may group as clusters or remain individual ribosomes that freely float in the cytoplasm. Additionally, ribosomes may also attach to the cytoplasmic side of the endoplasmic reticulum or the nuclear envelope’s outer membrane. They are used for linking amino acids together in a particular order to make proteins, using the information within mRNA (which is made using DNA in the nucleus) to direct the identity and order of amino acids in the protein.\",\n",
    "    \"In breathing, the body takes in oxygen during inhalation and releases carbon dioxide during exhalation. This is related to cellular respiration, which uses oxygen to make adenosine triphosphate (ATP), a form of short-term energy storage, and produces carbon dioxide as a byproduct. Thus, breathing provides the oxygen that the body’s cells need for cellular respiration and removes the carbon dioxide they produce as waste. In eukaryotic cells, cellular respiration occurs in the mitochondria.\"\n",
    "]"
   ]
  },
  {
   "cell_type": "code",
   "execution_count": null,
   "metadata": {},
   "outputs": [],
   "source": [
    "for i, _ in enumerate(MAN_QS):\n",
    "\n",
    "    print(\"\\nExpectations for answer\\n----------------------------------------\")\n",
    "    print(i)\n",
    "    prompt = exp_answer_template.format_messages(question=MAN_QS[i], answer=MAN_ANSW[i])\n",
    "    rev_expectations = chat(prompt).content\n",
    "    print(rev_expectations)\n"
   ]
  },
  {
   "cell_type": "code",
   "execution_count": null,
   "metadata": {},
   "outputs": [],
   "source": []
  },
  {
   "cell_type": "markdown",
   "metadata": {},
   "source": [
    "#### Old single question generation"
   ]
  },
  {
   "cell_type": "code",
   "execution_count": null,
   "metadata": {},
   "outputs": [],
   "source": [
    "# NOTE: review question generation (for student bot)\n",
    "rev_quest_gen_string = \"\"\"You are a biology professor that prepares a review \\\n",
    "question to help your students understand a specific piece of content. \\\n",
    "The content is provided below delimited by triple backticks. You want to avoid\n",
    "composite questions. Write the question in the following format:\\n\\\n",
    "Question: [question text]\\n\\\n",
    "\\n\\\n",
    "Content: ```{content}```\n",
    "\"\"\"\n",
    "rev_quest_template = ChatPromptTemplate.from_template(rev_quest_gen_string)"
   ]
  },
  {
   "cell_type": "code",
   "execution_count": null,
   "metadata": {},
   "outputs": [],
   "source": [
    "# NOTE: multiple-choice question generation\n",
    "mult_quest_gen_string = \"\"\"You are a biology professor that prepares a \\\n",
    "multiple-choice question to test your students' understanding of a specific \\\n",
    "piece of content. The question has four answer options and a single correct \\\n",
    "answer. The content is provided below delimited by triple backticks. Write \\\n",
    "the question in the following format:\\n\\\n",
    "Question: [question text]\\n\\\n",
    "Option A: [option text]\\n\\\n",
    "Option B: [option text]\\n\\\n",
    "Option C: [option text]\\n\\\n",
    "Option D: [option text]\\n\\\n",
    "Correct Option: [option letter]\\n\\\n",
    "\\n\\\n",
    "Content: ```{content}```\n",
    "\"\"\"\n",
    "mult_quest_template = ChatPromptTemplate.from_template(mult_quest_gen_string)"
   ]
  },
  {
   "cell_type": "code",
   "execution_count": null,
   "metadata": {},
   "outputs": [],
   "source": [
    "# NOTE: solution generation\n",
    "rev_quest_gen_string = \"\"\"You are a biology professor that prepares a model solution \\\n",
    "to help your students understand a review questions that targets a specific piece of content. \\\n",
    "The review question and content are provided below delimited by triple backticks. \\\n",
    "The model solution should be brief (<40 words) but still capture the important \\\n",
    "information. Write the answer in the following format:\\n\\\n",
    "Answer: [Answer Text]\\n\\\n",
    "\\n\\\n",
    "Review Question: ```{question}```\n",
    "\\n\\\n",
    "Content: ```{content}```\n",
    "\"\"\"\n",
    "rev_answer_template = ChatPromptTemplate.from_template(rev_quest_gen_string)"
   ]
  },
  {
   "cell_type": "code",
   "execution_count": null,
   "metadata": {},
   "outputs": [],
   "source": [
    "# NOTE: Lesson review question prompt\n",
    "comb_rev_quest_gen_string = \"\"\"You are a biology professor that prepares review/guiding \\\n",
    "questions to help your students learn a lesson. Write at least 5 free-response questions \\\n",
    "designed to help your students understand the lesson material. Overall, the questions you write \\\n",
    "should promote comprehensive learning and cover all the lesson material. Please try \\\n",
    "to avoid writing questions that overlap in content. The lesson material is provided \\\n",
    "below delimited by triple backticks.\\n\\\n",
    "Lesson Material:```{content}```\"\"\"\n",
    "comb_rev_quest_template = ChatPromptTemplate.from_template(comb_rev_quest_gen_string)"
   ]
  }
 ],
 "metadata": {
  "kernelspec": {
   "display_name": "vedu",
   "language": "python",
   "name": "python3"
  },
  "language_info": {
   "codemirror_mode": {
    "name": "ipython",
    "version": 3
   },
   "file_extension": ".py",
   "mimetype": "text/x-python",
   "name": "python",
   "nbconvert_exporter": "python",
   "pygments_lexer": "ipython3",
   "version": "3.11.3"
  },
  "orig_nbformat": 4
 },
 "nbformat": 4,
 "nbformat_minor": 2
}
