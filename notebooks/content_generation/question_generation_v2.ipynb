{
 "cells": [
  {
   "cell_type": "markdown",
   "metadata": {},
   "source": [
    "## Question Generation\n",
    "\n",
    "This notebook contains functions for automated question generation."
   ]
  },
  {
   "cell_type": "code",
   "execution_count": 1,
   "metadata": {},
   "outputs": [],
   "source": [
    "# imports\n",
    "from langchain.chat_models import AzureChatOpenAI\n",
    "from langchain.prompts import ChatPromptTemplate\n",
    "from dotenv import dotenv_values\n",
    "env_vars = dotenv_values('../../functions/.env')\n",
    "\n",
    "# temperature controls the randomness of the generated text\n",
    "# use temperature = 0.0 for development\n",
    "chat = AzureChatOpenAI(\n",
    "    deployment_name=env_vars[\"SEC_AZURE_DEPLOYMENT_ID\"],\n",
    "    openai_api_key=env_vars[\"SEC_AZURE_API_KEY\"],\n",
    "    openai_api_base=env_vars[\"SEC_AZURE_ENDPOINT\"],\n",
    "    openai_api_version='2023-05-15', temperature=0.0)"
   ]
  },
  {
   "cell_type": "code",
   "execution_count": 2,
   "metadata": {},
   "outputs": [],
   "source": [
    "LESSON_TEXT = '''“Form follows function” is a principle that many industries follow. In architecture, this principle implies that buildings should be constructed to support the activities housed within them. For example, a skyscraper should include several elevator banks. A hospital should have an easily accessible emergency room.\n",
    "\n",
    "Our natural world also utilizes the principle of form following function, especially in cell biology. The structure of cell organelles evolved to support their specialized functions. Similar to how organs in your body function, each organelle is a specialized compartment inside the cell with a unique role to perform. For example, in the pancreas there are cells that are responsible for producing digestive enzymes, which are specific types of proteins that help with food digestion. In these pancreas cells, ribosomes - the organelles responsible for protein synthesis - are found in high numbers. This illustrates the principle of form following function: The form (high number of ribosomes) follows the function (protein production). In addition to ribosomes, cells contain many other organelles, each with its distinct function. Throughout this lesson, we'll explore several of these organelles and understand how their specific form supports their function.\n",
    "\n",
    "\n",
    "Ribosomes\n",
    "\n",
    "Ribosomes are the cell organelles responsible for protein synthesis. Inside the cell, ribosomes may group together into clusters (polyribosomes) or individual ribosomes may float freely in the cytoplasm. Ribosomes are large protein and RNA complexes, each consisting of two subunits, one large and one small (Figure 1). Ribosomes receive their “orders” for protein synthesis from the nucleus that starts the process by transcribing the DNA into messenger RNA (mRNA). After transcription, the mRNA exits the nucleus and travels to the ribosomes located in the cytoplasm. The ribosomes then translate the code provided by the sequence of the nitrogenous bases in the mRNA into a specific order of amino acids linked together to form proteins. Amino acids are the building blocks of proteins and are vital for various cellular functions (e.g., digestion).\n",
    "\n",
    "\n",
    "Mitochondria\n",
    "\n",
    "Mitochondria (singular = mitochondrion) are bean-shaped structures each with a double membrane. Mitochondria are often called “powerhouses” of cells because they make adenosine triphosphate (ATP), which is the cell’s main energy-carrying molecule. ATP represents the cell's short-term stored energy. Mitochondria conduct cellular respiration, which is the process that makes ATP using the chemical energy contained in nutrients such as glucose. The cellular respiration process takes in oxygen to break down glucose and outputs ATP plus the side products carbon dioxide (CO2) and water (H2O). In fact, the carbon dioxide that you exhale with every breath comes from the cellular reactions that produce carbon dioxide as a byproduct.\n",
    "\n",
    "In keeping with our theme of form following function, it is important to note that muscle cells have a very high concentration of mitochondria that produce ATP. Your muscle cells need considerable energy to keep your body moving. When your cells don’t get enough oxygen, they make small amounts of ATP and also produce lactic acid.\n",
    "\n",
    "\n",
    "Peroxisomes\n",
    "\n",
    "Peroxisomes are small, round organelles enclosed by single membranes. They carry out oxidation reactions that break down fatty acids and amino acids, which are vital for various cellular functions. Oxidation reactions are also crucial in detoxifying poisons that may enter the body. Notably, many of these oxidation reactions produce hydrogen peroxide (H2O2), a substance that can be damaging to cells. However, these reactions are safely confined inside the peroxisomes by its membrane. Within the peroxisomes, enzymes break down the H2O2 into oxygen and water, mitigating potential damage. In liver cells, peroxisomes are particularly important as they detoxify alcohol. Another significant detoxification reaction carried out by peroxisomes involves the breakdown of environmental toxins like formaldehyde, commonly found in various household products and known for its harmful effects on human health.'''"
   ]
  },
  {
   "cell_type": "markdown",
   "metadata": {},
   "source": [
    "### Defining prompts"
   ]
  },
  {
   "cell_type": "code",
   "execution_count": 3,
   "metadata": {},
   "outputs": [
    {
     "name": "stdout",
     "output_type": "stream",
     "text": [
      "You are a biology professor that prepares review/guiding questions to help your students learn a lesson. Write at least 5 free-response questions designed to help your students understand the lesson material. Overall, the questions you write should promote comprehensive learning and cover all the lesson material. Please try to avoid writing questions that overlap in content. The lesson material is provided below delimited by triple backticks.\n",
      " Write the questions in the following format:\n",
      "Question 1: <Question 1 text> \n",
      "... \n",
      "Question N: <Question N text> \n",
      "\n",
      "Lesson Material:```{content}```\n"
     ]
    }
   ],
   "source": [
    "# NOTE: Lesson review question prompt\n",
    "comb_rev_quest_gen_string = \"\"\"You are a biology professor that prepares review/guiding \\\n",
    "questions to help your students learn a lesson. Write at least 5 free-response questions \\\n",
    "designed to help your students understand the lesson material. Overall, the questions you write \\\n",
    "should promote comprehensive learning and cover all the lesson material. Please try \\\n",
    "to avoid writing questions that overlap in content. The lesson material is provided \\\n",
    "below delimited by triple backticks.\\n Write the questions in the following format:\\n\\\n",
    "Question 1: <Question 1 text> \\n\\\n",
    "... \\n\\\n",
    "Question N: <Question N text> \\n\\n\\\n",
    "Lesson Material:```{content}```\"\"\"\n",
    "comb_rev_quest_template = ChatPromptTemplate.from_template(comb_rev_quest_gen_string)\n",
    "print(comb_rev_quest_gen_string)"
   ]
  },
  {
   "cell_type": "code",
   "execution_count": 4,
   "metadata": {},
   "outputs": [
    {
     "name": "stdout",
     "output_type": "stream",
     "text": [
      "Question 1: What does the principle \"form follows function\" mean in the context of cell biology? Provide an example to illustrate your answer.\n",
      "Question 2: Describe the structure and function of ribosomes. How does their structure support their function in protein synthesis?\n",
      "Question 3: Explain the role of mitochondria in cells. Why do muscle cells have a high concentration of mitochondria?\n",
      "Question 4: What are peroxisomes and what is their function in cells? How does their structure support their function?\n",
      "Question 5: Discuss the importance of peroxisomes in liver cells. What specific toxins do they help to detoxify and how do they do this?\n"
     ]
    }
   ],
   "source": [
    "prompt = comb_rev_quest_template.format_messages(content=LESSON_TEXT)\n",
    "rev_quest = chat(prompt).content\n",
    "print(rev_quest)"
   ]
  },
  {
   "cell_type": "code",
   "execution_count": 5,
   "metadata": {},
   "outputs": [
    {
     "data": {
      "text/plain": [
       "['What does the principle \"form follows function\" mean in the context of cell biology? Provide an example to illustrate your answer.',\n",
       " 'Describe the structure and function of ribosomes. How does their structure support their function in protein synthesis?',\n",
       " 'Explain the role of mitochondria in cells. Why do muscle cells have a high concentration of mitochondria?',\n",
       " 'What are peroxisomes and what is their function in cells? How does their structure support their function?',\n",
       " 'Discuss the importance of peroxisomes in liver cells. What specific toxins do they help to detoxify and how do they do this?']"
      ]
     },
     "execution_count": 5,
     "metadata": {},
     "output_type": "execute_result"
    }
   ],
   "source": [
    "REV_QUESTS = [s.split(\": \")[1] for s in rev_quest.split(\"\\n\") if len(s) > 5]\n",
    "REV_QUESTS"
   ]
  },
  {
   "cell_type": "code",
   "execution_count": 6,
   "metadata": {},
   "outputs": [
    {
     "name": "stdout",
     "output_type": "stream",
     "text": [
      "Question 1: What does the principle \"form follows function\" mean in the context of cell biology? Provide an example to illustrate your answer.\n",
      "Question 2: Describe the structure and function of ribosomes. How does their structure support their function in protein synthesis?\n",
      "Question 3: Explain the role of mitochondria in cells. Why do muscle cells have a high concentration of mitochondria?\n",
      "Question 4: What are peroxisomes and what is their function in cells? How does their structure support their function?\n",
      "Question 5: Discuss the importance of peroxisomes in liver cells. What specific toxins do they help to detoxify and how do they do this?\n",
      "\n"
     ]
    }
   ],
   "source": [
    "COMB_STRING = \"\"\n",
    "for i, q in enumerate(REV_QUESTS):\n",
    "    COMB_STRING += \"Question \" + str(i + 1) + \": \" + q + \"\\n\"\n",
    "print(COMB_STRING)"
   ]
  },
  {
   "cell_type": "code",
   "execution_count": 7,
   "metadata": {},
   "outputs": [
    {
     "name": "stdout",
     "output_type": "stream",
     "text": [
      "You are a biology professor that prepares solutions for a range of review/guiding questions designed to help your students learn a lesson. The questions and lesson text are provided below delimited by triple backticks. The solutions should be focused and explain only the most important information from \n",
      "the lesson material. Do not just copy sentences from the lesson text. Write the \n",
      "solutions in the following format:\n",
      "Solution 1: <Question 1 solution text> \n",
      "... \n",
      "Solution N: <Question N solution text> \n",
      "\n",
      "Question List: ```{question}```\n",
      "\n",
      "Lesson Material: ```{content}```\n",
      "\n"
     ]
    }
   ],
   "source": [
    "# NOTE: solution generation\n",
    "rev_quest_gen_string = \"\"\"You are a biology professor that prepares solutions \\\n",
    "for a range of review/guiding questions designed to help your students learn a lesson. \\\n",
    "The questions and lesson text are provided below delimited by triple backticks. \\\n",
    "The solutions should be focused and explain only the most important information from \n",
    "the lesson material. Do not just copy sentences from the lesson text. Write the \n",
    "solutions in the following format:\\n\\\n",
    "Solution 1: <Question 1 solution text> \\n\\\n",
    "... \\n\\\n",
    "Solution N: <Question N solution text> \\n\\\n",
    "\n",
    "Question List: ```{question}```\\n\\n\\\n",
    "Lesson Material: ```{content}```\n",
    "\"\"\"\n",
    "rev_answer_template = ChatPromptTemplate.from_template(rev_quest_gen_string)\n",
    "print(rev_quest_gen_string)"
   ]
  },
  {
   "cell_type": "code",
   "execution_count": 8,
   "metadata": {},
   "outputs": [
    {
     "name": "stdout",
     "output_type": "stream",
     "text": [
      "Solution 1: The principle \"form follows function\" in cell biology means that the structure of cell organelles has evolved to support their specialized functions. For example, in pancreas cells that produce digestive enzymes, there are a high number of ribosomes, the organelles responsible for protein synthesis. This high number of ribosomes supports the cell's function of producing proteins.\n",
      "\n",
      "Solution 2: Ribosomes are cell organelles responsible for protein synthesis. They are large protein and RNA complexes, consisting of two subunits, one large and one small. Ribosomes receive instructions for protein synthesis from the nucleus, which transcribes DNA into messenger RNA (mRNA). The mRNA then travels to the ribosomes in the cytoplasm, where they translate the code provided by the sequence of nitrogenous bases in the mRNA into a specific order of amino acids to form proteins. The structure of ribosomes, with their two subunits and ability to bind mRNA and amino acids, directly supports their function in protein synthesis.\n",
      "\n",
      "Solution 3: Mitochondria are organelles often referred to as the \"powerhouses\" of cells because they produce adenosine triphosphate (ATP), the cell's main energy-carrying molecule. They conduct cellular respiration, a process that uses the chemical energy in nutrients to produce ATP, carbon dioxide, and water. Muscle cells have a high concentration of mitochondria because they require a significant amount of energy to function, which is provided by the ATP produced by the mitochondria.\n",
      "\n",
      "Solution 4: Peroxisomes are small, round organelles enclosed by single membranes. They carry out oxidation reactions that break down fatty acids and amino acids. These reactions are crucial for detoxifying poisons that may enter the body. Many of these reactions produce hydrogen peroxide, a potentially damaging substance, but it is safely confined within the peroxisome and broken down into oxygen and water. The structure of peroxisomes, with their single membrane and internal enzymes, supports their function in carrying out oxidation reactions and detoxifying harmful substances.\n",
      "\n",
      "Solution 5: Peroxisomes are particularly important in liver cells as they help to detoxify alcohol and other toxins like formaldehyde. They carry out oxidation reactions that break down these harmful substances. In the process, they produce hydrogen peroxide, which is then broken down into oxygen and water within the peroxisome, preventing potential damage to the cell.\n"
     ]
    }
   ],
   "source": [
    "prompt = rev_answer_template.format_messages(question=COMB_STRING, content=LESSON_TEXT)\n",
    "rev_sol = chat(prompt).content\n",
    "print(rev_sol)"
   ]
  },
  {
   "cell_type": "code",
   "execution_count": 9,
   "metadata": {},
   "outputs": [
    {
     "data": {
      "text/plain": [
       "['The principle \"form follows function\" in cell biology means that the structure of cell organelles has evolved to support their specialized functions. For example, in pancreas cells that produce digestive enzymes, there are a high number of ribosomes, the organelles responsible for protein synthesis. This high number of ribosomes supports the cell\\'s function of producing proteins.',\n",
       " 'Ribosomes are cell organelles responsible for protein synthesis. They are large protein and RNA complexes, consisting of two subunits, one large and one small. Ribosomes receive instructions for protein synthesis from the nucleus, which transcribes DNA into messenger RNA (mRNA). The mRNA then travels to the ribosomes in the cytoplasm, where they translate the code provided by the sequence of nitrogenous bases in the mRNA into a specific order of amino acids to form proteins. The structure of ribosomes, with their two subunits and ability to bind mRNA and amino acids, directly supports their function in protein synthesis.',\n",
       " 'Mitochondria are organelles often referred to as the \"powerhouses\" of cells because they produce adenosine triphosphate (ATP), the cell\\'s main energy-carrying molecule. They conduct cellular respiration, a process that uses the chemical energy in nutrients to produce ATP, carbon dioxide, and water. Muscle cells have a high concentration of mitochondria because they require a significant amount of energy to function, which is provided by the ATP produced by the mitochondria.',\n",
       " 'Peroxisomes are small, round organelles enclosed by single membranes. They carry out oxidation reactions that break down fatty acids and amino acids. These reactions are crucial for detoxifying poisons that may enter the body. Many of these reactions produce hydrogen peroxide, a potentially damaging substance, but it is safely confined within the peroxisome and broken down into oxygen and water. The structure of peroxisomes, with their single membrane and internal enzymes, supports their function in carrying out oxidation reactions and detoxifying harmful substances.',\n",
       " 'Peroxisomes are particularly important in liver cells as they help to detoxify alcohol and other toxins like formaldehyde. They carry out oxidation reactions that break down these harmful substances. In the process, they produce hydrogen peroxide, which is then broken down into oxygen and water within the peroxisome, preventing potential damage to the cell.']"
      ]
     },
     "execution_count": 9,
     "metadata": {},
     "output_type": "execute_result"
    }
   ],
   "source": [
    "SOLUTIONS = [s.split(\": \")[1] for s in rev_sol.split(\"\\n\") if len(s) > 5]\n",
    "SOLUTIONS"
   ]
  },
  {
   "cell_type": "code",
   "execution_count": 10,
   "metadata": {},
   "outputs": [
    {
     "name": "stdout",
     "output_type": "stream",
     "text": [
      "Question 1: What does the principle \"form follows function\" mean in the context of cell biology? Provide an example to illustrate your answer.\n",
      "Solution 1: The principle \"form follows function\" in cell biology means that the structure of cell organelles has evolved to support their specialized functions. For example, in pancreas cells that produce digestive enzymes, there are a high number of ribosomes, the organelles responsible for protein synthesis. This high number of ribosomes supports the cell's function of producing proteins.\n",
      "Question 2: Describe the structure and function of ribosomes. How does their structure support their function in protein synthesis?\n",
      "Solution 2: Ribosomes are cell organelles responsible for protein synthesis. They are large protein and RNA complexes, consisting of two subunits, one large and one small. Ribosomes receive instructions for protein synthesis from the nucleus, which transcribes DNA into messenger RNA (mRNA). The mRNA then travels to the ribosomes in the cytoplasm, where they translate the code provided by the sequence of nitrogenous bases in the mRNA into a specific order of amino acids to form proteins. The structure of ribosomes, with their two subunits and ability to bind mRNA and amino acids, directly supports their function in protein synthesis.\n",
      "Question 3: Explain the role of mitochondria in cells. Why do muscle cells have a high concentration of mitochondria?\n",
      "Solution 3: Mitochondria are organelles often referred to as the \"powerhouses\" of cells because they produce adenosine triphosphate (ATP), the cell's main energy-carrying molecule. They conduct cellular respiration, a process that uses the chemical energy in nutrients to produce ATP, carbon dioxide, and water. Muscle cells have a high concentration of mitochondria because they require a significant amount of energy to function, which is provided by the ATP produced by the mitochondria.\n",
      "Question 4: What are peroxisomes and what is their function in cells? How does their structure support their function?\n",
      "Solution 4: Peroxisomes are small, round organelles enclosed by single membranes. They carry out oxidation reactions that break down fatty acids and amino acids. These reactions are crucial for detoxifying poisons that may enter the body. Many of these reactions produce hydrogen peroxide, a potentially damaging substance, but it is safely confined within the peroxisome and broken down into oxygen and water. The structure of peroxisomes, with their single membrane and internal enzymes, supports their function in carrying out oxidation reactions and detoxifying harmful substances.\n",
      "Question 5: Discuss the importance of peroxisomes in liver cells. What specific toxins do they help to detoxify and how do they do this?\n",
      "Solution 5: Peroxisomes are particularly important in liver cells as they help to detoxify alcohol and other toxins like formaldehyde. They carry out oxidation reactions that break down these harmful substances. In the process, they produce hydrogen peroxide, which is then broken down into oxygen and water within the peroxisome, preventing potential damage to the cell.\n",
      "\n"
     ]
    }
   ],
   "source": [
    "# What happes if we create all expectations at once?\n",
    "QS_STRING = \"\"\n",
    "for i, q in enumerate(REV_QUESTS):\n",
    "    QS_STRING += \"Question \" + str(i + 1) + \": \" + q + \"\\n\"\n",
    "    QS_STRING += \"Solution \" + str(i + 1) + \": \" + SOLUTIONS[i] + \"\\n\"\n",
    "print(QS_STRING)"
   ]
  },
  {
   "cell_type": "code",
   "execution_count": 11,
   "metadata": {},
   "outputs": [],
   "source": [
    "# NOTE: expectation generation\n",
    "exp_quest_gen_string = \"\"\"You are a biology professor that creates lists summarizing \\\n",
    "the key facts contained in the solutions to review/guiding questions \\\n",
    "designed to help your students learn a lesson. \\\n",
    "The questions and solutions are provided below delimited by triple backticks. \\\n",
    "You want to keep the lists brief and focused. \\\n",
    "Write the lists in the following format:\\n\\\n",
    "List 1: <Question 1 fact 1; ...; Question 1 fact m1>\\n\\\n",
    "...\\n\\\n",
    "List N: <Question N fact 1; ...; Question N fact mN>\\n\\\n",
    "\\n\\\n",
    "Questions and Solutions: ```{questions}```\n",
    "\"\"\"\n",
    "exp_answer_template = ChatPromptTemplate.from_template(exp_quest_gen_string)"
   ]
  },
  {
   "cell_type": "code",
   "execution_count": 12,
   "metadata": {},
   "outputs": [
    {
     "name": "stdout",
     "output_type": "stream",
     "text": [
      "List 1: \"Form follows function\" in cell biology means the structure of cell organelles supports their specialized functions; An example is the high number of ribosomes in pancreas cells that produce digestive enzymes, supporting the cell's function of producing proteins.\n",
      "\n",
      "List 2: Ribosomes are cell organelles responsible for protein synthesis; They are large protein and RNA complexes, consisting of two subunits; Ribosomes receive instructions for protein synthesis from the nucleus, which transcribes DNA into mRNA; The mRNA travels to the ribosomes in the cytoplasm, where they translate the code into a specific order of amino acids to form proteins; The structure of ribosomes supports their function in protein synthesis.\n",
      "\n",
      "List 3: Mitochondria are organelles that produce ATP, the cell's main energy-carrying molecule; They conduct cellular respiration, a process that uses the chemical energy in nutrients to produce ATP, carbon dioxide, and water; Muscle cells have a high concentration of mitochondria because they require a significant amount of energy, provided by the ATP produced by the mitochondria.\n",
      "\n",
      "List 4: Peroxisomes are small, round organelles enclosed by single membranes; They carry out oxidation reactions that break down fatty acids and amino acids; These reactions are crucial for detoxifying poisons; Many of these reactions produce hydrogen peroxide, which is safely confined within the peroxisome and broken down into oxygen and water; The structure of peroxisomes supports their function in carrying out oxidation reactions and detoxifying harmful substances.\n",
      "\n",
      "List 5: Peroxisomes are important in liver cells as they help to detoxify alcohol and other toxins like formaldehyde; They carry out oxidation reactions that break down these harmful substances; They produce hydrogen peroxide, which is then broken down into oxygen and water within the peroxisome, preventing potential damage to the cell.\n"
     ]
    }
   ],
   "source": [
    "prompt = exp_answer_template.format_messages(questions=QS_STRING)\n",
    "rev_sol = chat(prompt).content\n",
    "print(rev_sol)\n"
   ]
  },
  {
   "cell_type": "code",
   "execution_count": 13,
   "metadata": {},
   "outputs": [
    {
     "name": "stdout",
     "output_type": "stream",
     "text": [
      "Topic 1: What does the principle ''form follows function'' mean in the context of cell biology? Provide an example to illustrate your answer.\n",
      "Fact 1.1: ''Form follows function'' in cell biology means the structure of cell organelles supports their specialized functions.\n",
      "Fact 1.2: An example is the high number of ribosomes in pancreas cells that produce digestive enzymes, supporting the cell's function of producing proteins..\n",
      "\n",
      "Topic 2: Describe the structure and function of ribosomes. How does their structure support their function in protein synthesis?\n",
      "Fact 2.1: Ribosomes are cell organelles responsible for protein synthesis.\n",
      "Fact 2.2: They are large protein and RNA complexes, consisting of two subunits.\n",
      "Fact 2.3: Ribosomes receive instructions for protein synthesis from the nucleus, which transcribes DNA into mRNA.\n",
      "Fact 2.4: The mRNA travels to the ribosomes in the cytoplasm, where they translate the code into a specific order of amino acids to form proteins.\n",
      "Fact 2.5: The structure of ribosomes supports their function in protein synthesis..\n",
      "\n",
      "Topic 3: Explain the role of mitochondria in cells. Why do muscle cells have a high concentration of mitochondria?\n",
      "Fact 3.1: Mitochondria are organelles that produce ATP, the cell's main energy-carrying molecule.\n",
      "Fact 3.2: They conduct cellular respiration, a process that uses the chemical energy in nutrients to produce ATP, carbon dioxide, and water.\n",
      "Fact 3.3: Muscle cells have a high concentration of mitochondria because they require a significant amount of energy, provided by the ATP produced by the mitochondria..\n",
      "\n",
      "Topic 4: What are peroxisomes and what is their function in cells? How does their structure support their function?\n",
      "Fact 4.1: Peroxisomes are small, round organelles enclosed by single membranes.\n",
      "Fact 4.2: They carry out oxidation reactions that break down fatty acids and amino acids.\n",
      "Fact 4.3: These reactions are crucial for detoxifying poisons.\n",
      "Fact 4.4: Many of these reactions produce hydrogen peroxide, which is safely confined within the peroxisome and broken down into oxygen and water.\n",
      "Fact 4.5: The structure of peroxisomes supports their function in carrying out oxidation reactions and detoxifying harmful substances..\n",
      "\n",
      "Topic 5: Discuss the importance of peroxisomes in liver cells. What specific toxins do they help to detoxify and how do they do this?\n",
      "Fact 5.1: Peroxisomes are important in liver cells as they help to detoxify alcohol and other toxins like formaldehyde.\n",
      "Fact 5.2: They carry out oxidation reactions that break down these harmful substances.\n",
      "Fact 5.3: They produce hydrogen peroxide, which is then broken down into oxygen and water within the peroxisome, preventing potential damage to the cell..\n",
      "\n"
     ]
    }
   ],
   "source": [
    "# assemble expectation script\n",
    "formated = [s.split(\": \")[1] for s in rev_sol.split(\"\\n\") if len(s) > 5]\n",
    "\n",
    "for i, point in enumerate(formated):\n",
    "    print(\"Topic \" + str(i + 1) + \": \" + REV_QUESTS[i].replace('\"', \"''\"))\n",
    "    for j, fact in enumerate(point.split(\";\")):\n",
    "        fact = fact.replace('\"', \"''\")\n",
    "        fact = fact[min(j, 1):]\n",
    "        print(\"Fact \" + str(i + 1) + \".\" + str(j + 1) + \": \" + fact + \".\")\n",
    "    print(\"\")"
   ]
  },
  {
   "cell_type": "code",
   "execution_count": 14,
   "metadata": {},
   "outputs": [
    {
     "name": "stdout",
     "output_type": "stream",
     "text": [
      "[\n",
      "  {\n",
      "    question: \"What does the principle ''form follows function'' mean in the context of cell biology? Provide an example to illustrate your answer.\",\n",
      "    solution: \"The principle ''form follows function'' in cell biology means that the structure of cell organelles has evolved to support their specialized functions. For example, in pancreas cells that produce digestive enzymes, there are a high number of ribosomes, the organelles responsible for protein synthesis. This high number of ribosomes supports the cell's function of producing proteins.\",\n",
      "  },\n",
      "  {\n",
      "    question: \"Describe the structure and function of ribosomes. How does their structure support their function in protein synthesis?\",\n",
      "    solution: \"Ribosomes are cell organelles responsible for protein synthesis. They are large protein and RNA complexes, consisting of two subunits, one large and one small. Ribosomes receive instructions for protein synthesis from the nucleus, which transcribes DNA into messenger RNA (mRNA). The mRNA then travels to the ribosomes in the cytoplasm, where they translate the code provided by the sequence of nitrogenous bases in the mRNA into a specific order of amino acids to form proteins. The structure of ribosomes, with their two subunits and ability to bind mRNA and amino acids, directly supports their function in protein synthesis.\",\n",
      "  },\n",
      "  {\n",
      "    question: \"Explain the role of mitochondria in cells. Why do muscle cells have a high concentration of mitochondria?\",\n",
      "    solution: \"Mitochondria are organelles often referred to as the ''powerhouses'' of cells because they produce adenosine triphosphate (ATP), the cell's main energy-carrying molecule. They conduct cellular respiration, a process that uses the chemical energy in nutrients to produce ATP, carbon dioxide, and water. Muscle cells have a high concentration of mitochondria because they require a significant amount of energy to function, which is provided by the ATP produced by the mitochondria.\",\n",
      "  },\n",
      "  {\n",
      "    question: \"What are peroxisomes and what is their function in cells? How does their structure support their function?\",\n",
      "    solution: \"Peroxisomes are small, round organelles enclosed by single membranes. They carry out oxidation reactions that break down fatty acids and amino acids. These reactions are crucial for detoxifying poisons that may enter the body. Many of these reactions produce hydrogen peroxide, a potentially damaging substance, but it is safely confined within the peroxisome and broken down into oxygen and water. The structure of peroxisomes, with their single membrane and internal enzymes, supports their function in carrying out oxidation reactions and detoxifying harmful substances.\",\n",
      "  },\n",
      "  {\n",
      "    question: \"Discuss the importance of peroxisomes in liver cells. What specific toxins do they help to detoxify and how do they do this?\",\n",
      "    solution: \"Peroxisomes are particularly important in liver cells as they help to detoxify alcohol and other toxins like formaldehyde. They carry out oxidation reactions that break down these harmful substances. In the process, they produce hydrogen peroxide, which is then broken down into oxygen and water within the peroxisome, preventing potential damage to the cell.\",\n",
      "  },\n",
      "];\n",
      "\n"
     ]
    }
   ],
   "source": [
    "# assemble LLM_QA\n",
    "QATopicsLLM = \"[\\n\"\n",
    "for i, _, in enumerate(REV_QUESTS):\n",
    "    QATopicsLLM += \"  {\\n\"\n",
    "    QATopicsLLM += '    question: \"' + REV_QUESTS[i].replace('\"', \"''\") + '\",\\n'\n",
    "    QATopicsLLM += '    solution: \"' + SOLUTIONS[i].replace('\"', \"''\") + '\",\\n'\n",
    "    QATopicsLLM += \"  },\\n\"\n",
    "QATopicsLLM += \"];\\n\"\n",
    "\n",
    "print(QATopicsLLM)"
   ]
  },
  {
   "cell_type": "code",
   "execution_count": null,
   "metadata": {},
   "outputs": [],
   "source": []
  },
  {
   "cell_type": "code",
   "execution_count": null,
   "metadata": {},
   "outputs": [],
   "source": []
  },
  {
   "cell_type": "markdown",
   "metadata": {},
   "source": [
    "## EVERYTHING BELOW IS DEPRECATED"
   ]
  },
  {
   "cell_type": "markdown",
   "metadata": {},
   "source": [
    "### GPT3.5 generated"
   ]
  },
  {
   "cell_type": "code",
   "execution_count": null,
   "metadata": {},
   "outputs": [],
   "source": [
    "\"\"\"\n",
    "Q1\n",
    "\n",
    "Question: How does the principle of \"form follows function\" apply to eukaryotic cells and their organelles?\n",
    "\n",
    "Question: What is the main difference between eukaryotic and prokaryotic cells?\n",
    "Option A: Eukaryotic cells have a membrane-bound nucleus and numerous membrane-bound organelles, while prokaryotic cells do not.\n",
    "Option B: Eukaryotic cells have several rod-shaped chromosomes, while prokaryotic cells have only one circular chromosome.\n",
    "Option C: Eukaryotic cells have a cell wall, while prokaryotic cells do not.\n",
    "Option D: Eukaryotic cells have a flagellum for movement, while prokaryotic cells do not.\n",
    "Correct Option: A\n",
    "\n",
    "Q2\n",
    "\n",
    "What is the function of the plasma membrane in eukaryotic cells and how does it control the passage of molecules in and out of the cell?\n",
    "\n",
    "Question: What is the function of the plasma membrane in eukaryotic cells?\n",
    "Option A: To absorb nutrients from digested food\n",
    "Option B: To control the passage of organic molecules, ions, water, and oxygen into and out of the cell\n",
    "Option C: To produce energy for the cell\n",
    "Option D: To protect the cell from external threats\n",
    "Correct Option: B\n",
    "\n",
    "\n",
    "Q3\n",
    "\n",
    "What are the different types of organic molecules and elements found in the cytoplasm, and what metabolic reactions occur in this region of the cell?\n",
    "\n",
    "Question: Which of the following is NOT found in the cytoplasm of a cell?\n",
    "Option A: Glucose\n",
    "Option B: Proteins\n",
    "Option C: Calcium ions\n",
    "Option D: DNA\n",
    "Correct Option: D\n",
    "\n",
    "\n",
    "Q4\n",
    "\n",
    "What is the function of the nucleus in a cell and what does it house?\n",
    "\n",
    "Question: Which organelle houses the cell's DNA and directs the synthesis of ribosomes and proteins?\n",
    "Option A: Mitochondria\n",
    "Option B: Golgi Apparatus\n",
    "Option C: Nucleus\n",
    "Option D: Endoplasmic Reticulum\n",
    "Correct Option: C\n",
    "\n",
    "\n",
    "Q5\n",
    "\n",
    "How do chromosomes differ between prokaryotes and eukaryotes, and what is chromatin?\n",
    "\n",
    "Question: What is chromatin?\n",
    "Option A: A circular structure made up of DNA in prokaryotes.\n",
    "Option B: A linear structure made up of DNA in eukaryotes.\n",
    "Option C: The material that makes up chromosomes both when condensed and decondensed.\n",
    "Option D: A protein that attaches to chromosomes during cell division.\n",
    "Correct Option: C\n",
    "\n",
    "\n",
    "Q6\n",
    "\n",
    "What is the function of ribosomes in protein synthesis and how do they receive their \"orders\" for protein synthesis?\n",
    "    \n",
    "Question: What is the function of ribosomes in a cell?\n",
    "Option A: To store genetic information\n",
    "Option B: To produce lipids\n",
    "Option C: To synthesize proteins\n",
    "Option D: To break down waste products\n",
    "\n",
    "\n",
    "Q7\n",
    "\n",
    "Why are mitochondria often referred to as \"powerhouses\" or \"energy factories\" of both plant and animal cells?\n",
    "\n",
    "Question: What is the main function of mitochondria in both plant and animal cells?\n",
    "Option A: To produce glucose\n",
    "Option B: To produce carbon dioxide\n",
    "Option C: To store long-term energy\n",
    "Option D: To produce ATP\n",
    "Correct Option: D\n",
    "\n",
    "\n",
    "Q8\n",
    "\n",
    "What are some of the functions of peroxisomes in cells?\n",
    "\n",
    "Question: What is the function of peroxisomes in liver cells?\n",
    "Option A: Break down sugars\n",
    "Option B: Convert stored fats into sugars\n",
    "Option C: Detoxify alcohol\n",
    "Option D: Carry out photosynthesis\n",
    "Correct Option: C\n",
    "\n",
    "\n",
    "Q9\n",
    "\n",
    "What is the subtle distinction between vesicles and vacuoles, and how do their functions differ?\n",
    "\n",
    "Question: What is the main difference between vesicles and vacuoles?\n",
    "Option A: Vesicles are larger than vacuoles.\n",
    "Option B: Vesicle membranes can fuse with other membrane systems within the cell, while vacuole membranes do not.\n",
    "Option C: Vacuoles are used for storage, while vesicles are used for transport.\n",
    "Option D: Vesicles support cell expansion, while vacuoles break down macromolecules.\n",
    "Correct Option: B\n",
    "\"\"\""
   ]
  },
  {
   "cell_type": "code",
   "execution_count": null,
   "metadata": {},
   "outputs": [],
   "source": []
  },
  {
   "cell_type": "code",
   "execution_count": null,
   "metadata": {},
   "outputs": [],
   "source": []
  },
  {
   "cell_type": "code",
   "execution_count": null,
   "metadata": {},
   "outputs": [],
   "source": []
  },
  {
   "cell_type": "code",
   "execution_count": null,
   "metadata": {},
   "outputs": [],
   "source": [
    "content = \"\"\"\n",
    "Peroxisomes are small, round organelles enclosed by single membranes. They carry out oxidation reactions that break down fatty acids and amino acids. They also detoxify many poisons that may enter the body. (Many of these oxidation reactions release hydrogen peroxide, H2O2, which would be damaging to cells; however, when these reactions are confined to peroxisomes, enzymes safely break down the H2O2 into oxygen and water.) For example, peroxisomes in liver cells detoxify alcohol. Glyoxysomes, which are specialized peroxisomes in plants, are responsible for converting stored fats into sugars. Plant cells contain many different types of peroxisomes that play a role in metabolism, pathogene defense, and stress response, to mention a few.`;\n",
    "\"\"\"\n",
    "print(\"Summary:\\n----------------------------------------\")\n",
    "prompt = sum_content_template.format_messages(content=content)\n",
    "summary_list = chat(prompt).content\n",
    "print(summary_list)"
   ]
  },
  {
   "cell_type": "code",
   "execution_count": null,
   "metadata": {},
   "outputs": [],
   "source": []
  },
  {
   "cell_type": "markdown",
   "metadata": {},
   "source": [
    "#### Summary prompt:\n",
    "\n",
    "You are a biology college professor that teaches first year undergraduate students. Please help write a one sentence question that promotes a discussion about the knowledge that the questions below inquire about:"
   ]
  },
  {
   "cell_type": "code",
   "execution_count": null,
   "metadata": {},
   "outputs": [],
   "source": []
  },
  {
   "cell_type": "code",
   "execution_count": null,
   "metadata": {},
   "outputs": [],
   "source": [
    "MAN_QS = [\n",
    "    \"Explain the principle of form follows function. Provide at least 2 examples of how this principle applies with respect to the structure of eukaryotic cells.\",\n",
    "    \"What is the function of a membrane? Which structures/organelles of a eukaryotic cell are bounded by one or more membranes? Why is it important that these organelles are bounded in this way?\",\n",
    "    \"What is the consistency of the cytoplasm? Why? What is found within the cytoplasm of a eukaryotic cell? What happens here?\",\n",
    "    \"What are ribosomes composed of? Where in a cell are ribosomal subunits made and assembled? Where are they used? What are they used for? What provides them the instructions for their function?\",\n",
    "    \"How does breathing relate to the process of cellular respiration? What does cellular respiration use and produce? Where does it occur in eukaryotic cells?\"\n",
    "]\n",
    "\n",
    "MAN_ANSW = [\n",
    "    \"The principle of form follows function means that the function of a particular structure is specifically designed to help the structure carry out its particular function. There are many examples where a type of eukaryotic cell is enriched in a particular structure or organelle to optimize its ability to perform a particular function. These include (but only 2 need to be provided): A)\tCells lining the small intestine have microvilli (increased amounts of plasma membrane found in folds), increasing their area for nutrient absorption. When these microvilli are damaged (as occurs during celiac disease), nutrient absorption is disrupted. B) Cells that need to make a lot of proteins, like pancreatic cells that make a high quantity of digestive enzymes, contain may ribosomes, the structure responsible for protein synthesis. C) cells have a very high concentration of mitochondria in order to make high amounts of ATP (the cell’s short-term stored energy) to keep your body moving.\",\n",
    "    \"A membrane separates the internal contents of a cell or organelle from its surroundings, controlling the passage of materials from one side of the membrane to the other. A phospholipid bilayer with embedded proteins composes the plasma membrane, and several organelles, including the nucleus (surrounded by a double membrane), mitochondria (each surrounded by a double membrane), and peroxisomes (each surrounded by a single membrane) are also bound by membranes. It is important that the organelles are bounded in this way so that the materials they contain, and their functions are compartmentalized within the larger eukaryotic cell.\",\n",
    "    \"While the cytoplasm consists of 70-80% water, it has a gel-like, semi-solid consistency due to the proteins found within it. Beyond the cytosol, in which the organelles are suspended, the cytoplasm also contains the cytoskeleton and various chemicals, including glucose, other sugars, amino acids, nucleic acids, fatty acids, glycerol derivatives, and many dissolved ions and elements. The cytoplasm is where many metabolic reactions including protein synthesis.\",\n",
    "    \"Each ribosome is composed of two subunits, a large and a small, each of which contains both proteins and RNA. Ribosomal RNA is made in the nucleus, and the ribosomal RNA and ribosomal proteins assemble into ribosomal subunits in the nucleolus within the nucleus. Then, the ribosomal subunits leave the nucleus through the nuclear envelope’s pores to enter the cytoplasm. Once outside of the nucleus, ribosomes may group as clusters or remain individual ribosomes that freely float in the cytoplasm. Additionally, ribosomes may also attach to the cytoplasmic side of the endoplasmic reticulum or the nuclear envelope’s outer membrane. They are used for linking amino acids together in a particular order to make proteins, using the information within mRNA (which is made using DNA in the nucleus) to direct the identity and order of amino acids in the protein.\",\n",
    "    \"In breathing, the body takes in oxygen during inhalation and releases carbon dioxide during exhalation. This is related to cellular respiration, which uses oxygen to make adenosine triphosphate (ATP), a form of short-term energy storage, and produces carbon dioxide as a byproduct. Thus, breathing provides the oxygen that the body’s cells need for cellular respiration and removes the carbon dioxide they produce as waste. In eukaryotic cells, cellular respiration occurs in the mitochondria.\"\n",
    "]"
   ]
  },
  {
   "cell_type": "code",
   "execution_count": null,
   "metadata": {},
   "outputs": [],
   "source": [
    "for i, _ in enumerate(MAN_QS):\n",
    "\n",
    "    print(\"\\nExpectations for answer\\n----------------------------------------\")\n",
    "    print(i)\n",
    "    prompt = exp_answer_template.format_messages(question=MAN_QS[i], answer=MAN_ANSW[i])\n",
    "    rev_expectations = chat(prompt).content\n",
    "    print(rev_expectations)\n"
   ]
  },
  {
   "cell_type": "code",
   "execution_count": null,
   "metadata": {},
   "outputs": [],
   "source": []
  },
  {
   "cell_type": "markdown",
   "metadata": {},
   "source": [
    "#### Old single question generation"
   ]
  },
  {
   "cell_type": "code",
   "execution_count": null,
   "metadata": {},
   "outputs": [],
   "source": [
    "# NOTE: review question generation (for student bot)\n",
    "rev_quest_gen_string = \"\"\"You are a biology professor that prepares a review \\\n",
    "question to help your students understand a specific piece of content. \\\n",
    "The content is provided below delimited by triple backticks. You want to avoid\n",
    "composite questions. Write the question in the following format:\\n\\\n",
    "Question: [question text]\\n\\\n",
    "\\n\\\n",
    "Content: ```{content}```\n",
    "\"\"\"\n",
    "rev_quest_template = ChatPromptTemplate.from_template(rev_quest_gen_string)"
   ]
  },
  {
   "cell_type": "code",
   "execution_count": null,
   "metadata": {},
   "outputs": [],
   "source": [
    "# NOTE: multiple-choice question generation\n",
    "mult_quest_gen_string = \"\"\"You are a biology professor that prepares a \\\n",
    "multiple-choice question to test your students' understanding of a specific \\\n",
    "piece of content. The question has four answer options and a single correct \\\n",
    "answer. The content is provided below delimited by triple backticks. Write \\\n",
    "the question in the following format:\\n\\\n",
    "Question: [question text]\\n\\\n",
    "Option A: [option text]\\n\\\n",
    "Option B: [option text]\\n\\\n",
    "Option C: [option text]\\n\\\n",
    "Option D: [option text]\\n\\\n",
    "Correct Option: [option letter]\\n\\\n",
    "\\n\\\n",
    "Content: ```{content}```\n",
    "\"\"\"\n",
    "mult_quest_template = ChatPromptTemplate.from_template(mult_quest_gen_string)"
   ]
  },
  {
   "cell_type": "code",
   "execution_count": null,
   "metadata": {},
   "outputs": [],
   "source": [
    "# NOTE: solution generation\n",
    "rev_quest_gen_string = \"\"\"You are a biology professor that prepares a model solution \\\n",
    "to help your students understand a review questions that targets a specific piece of content. \\\n",
    "The review question and content are provided below delimited by triple backticks. \\\n",
    "The model solution should be brief (<40 words) but still capture the important \\\n",
    "information. Write the answer in the following format:\\n\\\n",
    "Answer: [Answer Text]\\n\\\n",
    "\\n\\\n",
    "Review Question: ```{question}```\n",
    "\\n\\\n",
    "Content: ```{content}```\n",
    "\"\"\"\n",
    "rev_answer_template = ChatPromptTemplate.from_template(rev_quest_gen_string)"
   ]
  },
  {
   "cell_type": "code",
   "execution_count": null,
   "metadata": {},
   "outputs": [],
   "source": [
    "# NOTE: Lesson review question prompt\n",
    "comb_rev_quest_gen_string = \"\"\"You are a biology professor that prepares review/guiding \\\n",
    "questions to help your students learn a lesson. Write at least 5 free-response questions \\\n",
    "designed to help your students understand the lesson material. Overall, the questions you write \\\n",
    "should promote comprehensive learning and cover all the lesson material. Please try \\\n",
    "to avoid writing questions that overlap in content. The lesson material is provided \\\n",
    "below delimited by triple backticks.\\n\\\n",
    "Lesson Material:```{content}```\"\"\"\n",
    "comb_rev_quest_template = ChatPromptTemplate.from_template(comb_rev_quest_gen_string)"
   ]
  },
  {
   "cell_type": "code",
   "execution_count": null,
   "metadata": {},
   "outputs": [],
   "source": []
  },
  {
   "cell_type": "code",
   "execution_count": null,
   "metadata": {},
   "outputs": [],
   "source": [
    "# one at a time expectation generation\n",
    "\n",
    "# NOTE: expectation generation\n",
    "exp_quest_gen_string = \"\"\"You are a biology professor that creates a list to summarize \\\n",
    "the key information elements contained in the solution to a review/guiding question \\\n",
    "designed to help your students learn a lesson. \\\n",
    "The question and solution are provided below delimited by triple backticks. \\\n",
    "You want to keep the list and descriptions brief and focused. \\\n",
    "Write the list in the following format:\\n\\\n",
    "Element 1: <Element 1 description>\\n\\\n",
    "...\\n\\\n",
    "Element N: <Element N description>\\n\\\n",
    "\\n\\\n",
    "Question: ```{question}```\n",
    "\\n\\\n",
    "Solution: ```{solution}```\n",
    "\"\"\"\n",
    "exp_answer_template = ChatPromptTemplate.from_template(exp_quest_gen_string)\n",
    "\n",
    "print(exp_quest_gen_string)\n",
    "\n",
    "for i, q in enumerate(REV_QUESTS):\n",
    "    print(\"Question\", i, q)\n",
    "    print(SOLUTIONS[i])\n",
    "    prompt = exp_answer_template.format_messages(question=q, solution=SOLUTIONS[i])\n",
    "    rev_sol = chat(prompt).content\n",
    "    print(rev_sol)\n",
    "    print(\"\")\n"
   ]
  },
  {
   "cell_type": "code",
   "execution_count": null,
   "metadata": {},
   "outputs": [],
   "source": []
  }
 ],
 "metadata": {
  "kernelspec": {
   "display_name": "vedu",
   "language": "python",
   "name": "python3"
  },
  "language_info": {
   "codemirror_mode": {
    "name": "ipython",
    "version": 3
   },
   "file_extension": ".py",
   "mimetype": "text/x-python",
   "name": "python",
   "nbconvert_exporter": "python",
   "pygments_lexer": "ipython3",
   "version": "3.11.3"
  },
  "orig_nbformat": 4
 },
 "nbformat": 4,
 "nbformat_minor": 2
}
